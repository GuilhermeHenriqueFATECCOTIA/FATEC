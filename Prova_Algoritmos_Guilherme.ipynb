{
  "nbformat": 4,
  "nbformat_minor": 0,
  "metadata": {
    "colab": {
      "provenance": [],
      "include_colab_link": true
    },
    "kernelspec": {
      "name": "python3",
      "display_name": "Python 3"
    },
    "language_info": {
      "name": "python"
    }
  },
  "cells": [
    {
      "cell_type": "markdown",
      "metadata": {
        "id": "view-in-github",
        "colab_type": "text"
      },
      "source": [
        "<a href=\"https://colab.research.google.com/github/GuilhermeHenriqueFATECCOTIA/FATEC/blob/main/Prova_Algoritmos_Guilherme.ipynb\" target=\"_parent\"><img src=\"https://colab.research.google.com/assets/colab-badge.svg\" alt=\"Open In Colab\"/></a>"
      ]
    },
    {
      "cell_type": "markdown",
      "source": [
        "##PROVA ALGORITIMOS "
      ],
      "metadata": {
        "id": "zY1coSCmJdO7"
      }
    },
    {
      "cell_type": "code",
      "source": [
        "import random\n",
        "from operator import itemgetter\n",
        "import time\n",
        "def aviao(qnt_aviao):\n",
        "    \n",
        "    aeroporto = []\n",
        "    i = 0\n",
        "\n",
        "    for i in range(0,qnt_aviao):\n",
        "        av = {\n",
        "            'aviao': int(random.randrange(1, 100)),\n",
        "            'combustivel': int(random.randrange(1, 100)),\n",
        "            'voo': random.choice([True, False]),\n",
        "            'carga': random.choice(['COMERCIAL','CARGA']),\n",
        "            'tempo_de_voo':''\n",
        "        }\n",
        "        av['tempo_de_voo'] = av['combustivel']\n",
        "        aeroporto.append(av)\n",
        "\n",
        "    aeroporto.sort(key=lambda x: x['combustivel'])\n",
        "\n",
        "    key = 'Combustivel'\n",
        "\n",
        "    nao_decolados = []\n",
        "    t = len(aeroporto)\n",
        "    j = 0\n",
        "    while (j<t):\n",
        "\n",
        "       if aeroporto[j]['voo'] == False:\n",
        "           nao_decolados.append(aeroporto[j])\n",
        "           aeroporto.pop(j)\n",
        "           j = 0\n",
        "           t = t-1\n",
        "       else:\n",
        "           j = j + 1\n",
        "    print('Esses aviões estão no ar:' +str(aeroporto))\n",
        "\n",
        "    print('Esses aviões não decolaram:' + str(nao_decolados))\n",
        "    time.sleep(3)\n",
        "    z=0\n",
        "    p=1\n",
        "    j=0\n",
        "    while (z != len(aeroporto)):\n",
        "        if aeroporto[j]['combustivel'] <= 1:\n",
        "         print('Avião: '+str(aeroporto[j]['aviao'])+ ' Encontrase POUSANNNNNDDDOOOOOOOO')\n",
        "         print('Avião: ' +str(aeroporto[j]['aviao']) + ' POUSOU')\n",
        "         print('O tempo de voo do avião: ' +str(aeroporto[j]['aviao']) + ' Foi de um total de :'+str(aeroporto[j]['tempo_de_voo'])+ ' minutos')\n",
        "\n",
        "         j=0\n",
        "         aeroporto.pop(j)\n",
        "         time.sleep(3)\n",
        "        else:\n",
        "            aeroporto[j]['combustivel']=aeroporto[j]['combustivel']-1\n",
        "            print('Avião: ' + str(aeroporto[j]['aviao']) + ' Encontrase com pouco combustivel. Combustivel:  '+str(aeroporto[j]['combustivel']))\n",
        "    print('Não existem aviões no ar')\n",
        "\n",
        "\n",
        "\n",
        "\n",
        "aviao(int(input(\"Digite a quantidade de aviões \")))"
      ],
      "metadata": {
        "colab": {
          "base_uri": "https://localhost:8080/"
        },
        "id": "Qv06eMtkJhsZ",
        "outputId": "7dd2cb5d-2775-48db-b722-ead457270616"
      },
      "execution_count": null,
      "outputs": [
        {
          "output_type": "stream",
          "name": "stdout",
          "text": [
            "Digite a quantidade de aviões 3\n",
            "Esses aviões estão no ar:[{'aviao': 90, 'combustivel': 15, 'voo': True, 'carga': 'COMERCIAL', 'tempo_de_voo': 15}]\n",
            "Esses aviões estão não decolaram:[{'aviao': 21, 'combustivel': 21, 'voo': False, 'carga': 'COMERCIAL', 'tempo_de_voo': 21}, {'aviao': 70, 'combustivel': 25, 'voo': False, 'carga': 'CARGA', 'tempo_de_voo': 25}]\n",
            "Avião: 90 Encontrase com pouco combustivel. Combustivel:  14\n",
            "Avião: 90 Encontrase com pouco combustivel. Combustivel:  13\n",
            "Avião: 90 Encontrase com pouco combustivel. Combustivel:  12\n",
            "Avião: 90 Encontrase com pouco combustivel. Combustivel:  11\n",
            "Avião: 90 Encontrase com pouco combustivel. Combustivel:  10\n",
            "Avião: 90 Encontrase com pouco combustivel. Combustivel:  9\n",
            "Avião: 90 Encontrase com pouco combustivel. Combustivel:  8\n",
            "Avião: 90 Encontrase com pouco combustivel. Combustivel:  7\n",
            "Avião: 90 Encontrase com pouco combustivel. Combustivel:  6\n",
            "Avião: 90 Encontrase com pouco combustivel. Combustivel:  5\n",
            "Avião: 90 Encontrase com pouco combustivel. Combustivel:  4\n",
            "Avião: 90 Encontrase com pouco combustivel. Combustivel:  3\n",
            "Avião: 90 Encontrase com pouco combustivel. Combustivel:  2\n",
            "Avião: 90 Encontrase com pouco combustivel. Combustivel:  1\n",
            "Avião: 90 Encontrase POUSANNNNNDDDOOOOOOOO\n",
            "Avião: 90 POUSOU\n",
            "O tempo de voo do avião: 90 Foi de um total de :15 minutos\n",
            "Não existem aviões no ar\n"
          ]
        }
      ]
    }
  ]
}